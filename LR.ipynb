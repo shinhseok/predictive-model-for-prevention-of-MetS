{
 "cells": [
  {
   "cell_type": "code",
   "execution_count": 1,
   "id": "e5f77c0c",
   "metadata": {},
   "outputs": [],
   "source": [
    "import os\n",
    "import pandas as pd\n",
    "import numpy as np\n",
    "\n",
    "import joblib\n",
    "import sidetable\n",
    "\n",
    "from sklearn.linear_model import LogisticRegression\n",
    "from sklearn.preprocessing import StandardScaler\n",
    "\n",
    "from sklearn.feature_selection import RFE, RFECV\n",
    "from sklearn.model_selection import GridSearchCV\n",
    "from sklearn.model_selection import KFold\n",
    "\n",
    "from itertools import combinations\n",
    "from MetsDataByGender import get_mets_data\n",
    "from MetsEvaluation import get_feature_importance, get_metric, get_calib_metric\n",
    "\n",
    "from numpy import array\n",
    "from matplotlib import pyplot as plt\n",
    "%matplotlib inline"
   ]
  },
  {
   "cell_type": "markdown",
   "id": "8384489c-c8b5-4bc3-a8f9-9ce14b65f4ee",
   "metadata": {},
   "source": [
    "### Dataset"
   ]
  },
  {
   "cell_type": "code",
   "execution_count": 143,
   "id": "4162d999-e4db-4df7-b942-eb05c02e5caf",
   "metadata": {},
   "outputs": [],
   "source": [
    "# fts_ctg : 'anthropometric', 'survey-based', 'synthesized'\n",
    "# fts : Define features to add as a list\n",
    "# gender : 0 male, 1 female\n",
    "add_fts = []\n",
    "tr, val, ts, info, beta, tau, ctg_idxs, ctg_dims = get_mets_data(fts_ctg='', fts = add_fts, gender=0, ONEHOT=True, TABNET=False, mrmr=False, SEED=100)"
   ]
  },
  {
   "cell_type": "markdown",
   "id": "8c709613-84eb-4622-9733-232e04f47d5b",
   "metadata": {},
   "source": [
    "### Trial 1 : Base Model \n",
    "- Default Parameter"
   ]
  },
  {
   "cell_type": "code",
   "execution_count": 147,
   "id": "5d5a5fb1-fe05-47d1-9180-9d01a5d4a416",
   "metadata": {},
   "outputs": [],
   "source": [
    "X_train = tr.iloc[:,1:]\n",
    "y_train = tr.iloc[:,0]\n",
    "X_valid = val.iloc[:,1:]\n",
    "y_valid = val.iloc[:,0]"
   ]
  },
  {
   "cell_type": "code",
   "execution_count": 148,
   "id": "281cf460-648f-47b3-946a-4f83513ef996",
   "metadata": {},
   "outputs": [],
   "source": [
    "args = {'penalty' : 'l1','solver' : 'liblinear','random_state' : 100}\n",
    "\n",
    "estimator = LogisticRegression(**args, max_iter=3000)\n",
    "\n",
    "sc = StandardScaler() #with_mean=False, with_std=False\n",
    "sX_train = sc.fit_transform(X_train)\n",
    "sX_valid = sc.transform(X_valid)\n",
    "\n",
    "sX_train = pd.DataFrame(sX_train, columns=X_train.columns)\n",
    "sX_valid = pd.DataFrame(sX_valid, columns=X_valid.columns)\n",
    "\n",
    "base_model = estimator\n",
    "base_model.fit(sX_train, y_train)\n",
    "prob = base_model.predict_proba(sX_valid)\n",
    "fts = get_feature_importance(base_model.coef_.reshape(-1), sX_train.columns, 30)"
   ]
  },
  {
   "cell_type": "markdown",
   "id": "6ae175d9-d28a-4657-a8ca-a44edaac9b15",
   "metadata": {},
   "source": [
    "### Trial 2. Feature Selection Model"
   ]
  },
  {
   "cell_type": "code",
   "execution_count": 150,
   "id": "59a4fc5b-5cb6-492d-8d1c-a9ce5fe373fd",
   "metadata": {},
   "outputs": [],
   "source": [
    "# RFE Top 30\n",
    "selector = RFE(estimator, step=1, n_features_to_select=30, verbose=0) #scoring : f1, roc_auc\n",
    "result = selector.fit(sX_train.loc[:,fts.feature], y_train)\n",
    "slc_fts = fts.feature[result.support_]\n",
    "\n",
    "# RFECV\n",
    "selector = RFECV(estimator, step=1, cv=5, scoring='roc_auc', min_features_to_select=5, verbose=0) #scoring : f1, roc_auc\n",
    "result = selector.fit(sX_train.loc[:,slc_fts], y_train)\n",
    "slc_fts = slc_fts[result.support_]\n",
    "\n",
    "# RFE Top 10\n",
    "selector = RFE(estimator, step=1, n_features_to_select=10, verbose=0) #scoring : f1, roc_auc\n",
    "result = selector.fit(sX_train.loc[:,slc_fts], y_train)\n",
    "slc_fts = slc_fts[result.support_]\n",
    "\n",
    "top_n_model = estimator\n",
    "top_n_model.fit(sX_train.loc[:,slc_fts],y_train)\n",
    "prob = top_n_model.predict_proba(sX_valid.loc[:,slc_fts])\n",
    "\n",
    "fts = get_feature_importance(top_n_model.coef_.reshape(-1), sX_train.loc[:,slc_fts].columns, 30, is_abs=False)\n",
    "plt.figure(figsize=(12,8))\n",
    "plt.barh(fts['feature'], fts['importance'])\n",
    "plt.gca().invert_yaxis()\n",
    "plt.show()"
   ]
  },
  {
   "cell_type": "markdown",
   "id": "d123943b-56ea-45b8-b295-95f7efd72464",
   "metadata": {},
   "source": [
    "### Trial 3. Find Best Combination"
   ]
  },
  {
   "cell_type": "code",
   "execution_count": 157,
   "id": "599827b0-4e68-415a-842d-22648b31680c",
   "metadata": {},
   "outputs": [
    {
     "name": "stdout",
     "output_type": "stream",
     "text": [
      "# Comb : 3\n",
      "==== 1 ====\n",
      "Best AUC : 0.8661868844899707  Features :  ('BPWC_add', 'weight', 'BRI')\n",
      "# Comb : 4\n",
      "==== 1 ====\n",
      "Best AUC : 0.8672178123250222  Features :  ('BPWC_add', 'WC', 'weight', 'height')\n",
      "# Comb : 5\n",
      "==== 1 ====\n",
      "Best AUC : 0.8676970455518592  Features :  ('BPWC_add', 'WC', 'weight', 'hip', 'height')\n",
      "# Comb : 6\n",
      "==== 1 ====\n",
      "Best AUC : 0.8685748163762721  Features :  ('BPWC_add', 'WC', 'whr', 'weight', 'height', 'BRI')\n",
      "# Comb : 7\n",
      "==== 1 ====\n",
      "Best AUC : 0.8688086690161719  Features :  ('BPWC_add', 'WC', 'whr', 'weight', 'SBP', 'height', 'BRI')\n",
      "# Comb : 8\n",
      "==== 1 ====\n",
      "Best AUC : 0.869240143605283  Features :  ('BPWC_add', 'WC', 'whr', 'weight', 'SBP', 'sbp', 'height', 'BRI')\n",
      "# Comb : 9\n",
      "==== 1 ====\n",
      "Best AUC : 0.8695365765291  Features :  ('BPWC_add', 'WC', 'whr', 'weight', 'hip', 'SBP', 'sbp', 'height', 'BRI')\n",
      "# Comb : 10\n",
      "==== 1 ====\n",
      "Best AUC : 0.8695365765291  Features :  ('BPWC_add', 'WC', 'whr', 'weight', 'hip', 'SBP', 'sbp', 'height', 'BRI')\n"
     ]
    }
   ],
   "source": [
    "best_res = 0\n",
    "best_ft = []\n",
    "\n",
    "model = estimator\n",
    "\n",
    "for j in range(3,len(slc_fts)+1) : \n",
    "    print('# Comb :', j)\n",
    "    candi = list(combinations(slc_fts, j))\n",
    "    for i, ft in enumerate(candi):\n",
    "        \n",
    "        if i % 1000 == 0 :\n",
    "            print('====',i+1,'====')\n",
    "        \n",
    "        model.fit(sX_train.loc[:,ft],y_train)\n",
    "        prob = model.predict_proba(sX_valid.loc[:,ft])\n",
    "        metric = get_metric(prob, y_valid, 0.5)\n",
    "        crn = metric['auc']\n",
    "        if crn > best_res :\n",
    "            best_res = crn\n",
    "            best_ft = ft\n",
    "    print('Best AUC :',best_res, ' Features : ', best_ft)"
   ]
  },
  {
   "cell_type": "code",
   "execution_count": 159,
   "id": "e39f85d0-ef72-47af-8b84-798361a9b0d1",
   "metadata": {},
   "outputs": [
    {
     "data": {
      "text/plain": [
       "{'acc': 0.7772657450076805,\n",
       " 'bac': 0.7999645927340997,\n",
       " 'recall': 0.8376288659793815,\n",
       " 'ppv': 0.46628407460545196,\n",
       " 'npv': 0.9498407643312102,\n",
       " 'sepecificity': 0.7623003194888179,\n",
       " 'f1': 0.5990783410138248,\n",
       " 'auc': 0.8695365765291}"
      ]
     },
     "execution_count": 159,
     "metadata": {},
     "output_type": "execute_result"
    }
   ],
   "source": [
    "model = estimator \n",
    "model.fit(sX_train.loc[:,best_ft],y_train)\n",
    "prob = model.predict_proba(sX_valid.loc[:,best_ft])\n",
    "get_metric(prob, y_valid, 0.5)"
   ]
  },
  {
   "cell_type": "code",
   "execution_count": 160,
   "id": "076f1312-fac3-4762-8375-9694d0f2bc9e",
   "metadata": {},
   "outputs": [
    {
     "name": "stdout",
     "output_type": "stream",
     "text": [
      "Optimization terminated successfully.\n",
      "         Current function value: 0.448454\n",
      "         Iterations 6\n",
      "                         Results: Logit\n",
      "================================================================\n",
      "Model:              Logit            Pseudo R-squared: 0.353    \n",
      "Dependent Variable: y                AIC:              5905.2998\n",
      "Date:               2023-03-08 10:42 BIC:              5966.4040\n",
      "No. Observations:   6564             Log-Likelihood:   -2943.6  \n",
      "Df Model:           8                LL-Null:          -4549.8  \n",
      "Df Residuals:       6555             LLR p-value:      0.0000   \n",
      "Converged:          1.0000           Scale:            1.0000   \n",
      "No. Iterations:     6.0000                                      \n",
      "-----------------------------------------------------------------\n",
      "              Coef.   Std.Err.     z     P>|z|    [0.025   0.975]\n",
      "-----------------------------------------------------------------\n",
      "BPWC_add      1.3554    0.1245  10.8855  0.0000   1.1114   1.5995\n",
      "WC            1.1969    0.1389   8.6162  0.0000   0.9246   1.4692\n",
      "whr           0.6713    0.2096   3.2031  0.0014   0.2605   1.0821\n",
      "weight        0.3772    0.0735   5.1349  0.0000   0.2332   0.5212\n",
      "hip           0.4391    0.2252   1.9493  0.0513  -0.0024   0.8805\n",
      "SBP           0.1665    0.1131   1.4720  0.1410  -0.0552   0.3882\n",
      "sbp          -0.1424    0.0875  -1.6270  0.1037  -0.3140   0.0291\n",
      "height       -0.7462    0.1477  -5.0531  0.0000  -1.0356  -0.4567\n",
      "BRI          -1.6304    0.3520  -4.6323  0.0000  -2.3203  -0.9406\n",
      "================================================================\n",
      "\n"
     ]
    }
   ],
   "source": [
    "import statsmodels.api as sm\n",
    "\n",
    "logit_model=sm.Logit(y_train.to_list(),sX_train.loc[:, best_ft])\n",
    "result=logit_model.fit()\n",
    "print(result.summary2())"
   ]
  },
  {
   "cell_type": "code",
   "execution_count": 165,
   "id": "842b3623-d714-44a4-ae67-ac719fba61e5",
   "metadata": {},
   "outputs": [
    {
     "data": {
      "image/png": "[encoded data removed]",
      "text/plain": [
       "<Figure size 864x576 with 1 Axes>"
      ]
     },
     "metadata": {
      "needs_background": "light"
     },
     "output_type": "display_data"
    }
   ],
   "source": [
    "fts = get_feature_importance(np.exp(model.coef_.reshape(-1)), sX_train.loc[:,best_ft].columns, 30, is_abs=False)\n",
    "\n",
    "plt.figure(figsize=(12,8))\n",
    "plt.barh(fts['feature'], fts['importance'])\n",
    "plt.gca().invert_yaxis()\n",
    "plt.show()"
   ]
  },
  {
   "cell_type": "markdown",
   "id": "1f13f4f3-3597-4f1b-9239-5c039bca27bd",
   "metadata": {},
   "source": [
    "### Model Tuning"
   ]
  },
  {
   "cell_type": "code",
   "execution_count": 167,
   "id": "133b6431-cc13-4583-bfdc-689f6aad08a3",
   "metadata": {},
   "outputs": [
    {
     "name": "stdout",
     "output_type": "stream",
     "text": [
      "Fitting 5 folds for each of 14 candidates, totalling 70 fits\n"
     ]
    },
    {
     "data": {
      "text/plain": [
       "{'acc': 0.7752176139272914,\n",
       " 'bac': 0.7986866374625342,\n",
       " 'recall': 0.8376288659793815,\n",
       " 'ppv': 0.463623395149786,\n",
       " 'npv': 0.9496805111821086,\n",
       " 'sepecificity': 0.759744408945687,\n",
       " 'f1': 0.5968778696051423,\n",
       " 'auc': 0.8697572543723856}"
      ]
     },
     "execution_count": 167,
     "metadata": {},
     "output_type": "execute_result"
    }
   ],
   "source": [
    "args = {'penalty' : 'l1','random_state' : 100}\n",
    "\n",
    "param_grid ={\n",
    "    'C' : [100, 10, 5, 1.0, 0.1, 0.05, 0.01],\n",
    "    'solver' : ['liblinear', 'saga']}\n",
    "\n",
    "kf = KFold(random_state=100,\n",
    "           n_splits=5,\n",
    "           shuffle=True\n",
    "          )\n",
    "\n",
    "# define grid_search\n",
    "grid_search = GridSearchCV(estimator=estimator, \n",
    "                           param_grid=param_grid, \n",
    "                           cv=kf, \n",
    "                           scoring='roc_auc',\n",
    "                           n_jobs=-1, \n",
    "                           verbose=1\n",
    "                          )\n",
    "\n",
    "grid_search.fit(X_train.loc[:,best_ft], y_train)\n",
    "#grid_search.best_params_\n",
    "\n",
    "best_model = LogisticRegression(**grid_search.best_params_,**args,max_iter=1000)\n",
    "best_model.fit(X_train.loc[:,best_ft],y_train)\n",
    "\n",
    "prob = best_model.predict_proba(X_valid.loc[:,best_ft])\n",
    "get_metric(prob, y_valid, 0.5)"
   ]
  }
 ],
 "metadata": {
  "kernelspec": {
   "display_name": "Python 3 (ipykernel)",
   "language": "python",
   "name": "python3"
  },
  "language_info": {
   "codemirror_mode": {
    "name": "ipython",
    "version": 3
   },
   "file_extension": ".py",
   "mimetype": "text/x-python",
   "name": "python",
   "nbconvert_exporter": "python",
   "pygments_lexer": "ipython3",
   "version": "3.8.13"
  }
 },
 "nbformat": 4,
 "nbformat_minor": 5
}
