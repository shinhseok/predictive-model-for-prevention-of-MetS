{
 "cells": [
  {
   "cell_type": "code",
   "execution_count": 3,
   "id": "e5f77c0c",
   "metadata": {},
   "outputs": [],
   "source": [
    "import os\n",
    "import pandas as pd\n",
    "import numpy as np\n",
    "\n",
    "import joblib\n",
    "import sidetable\n",
    "\n",
    "from sklearn.ensemble import RandomForestClassifier\n",
    "\n",
    "from sklearn.feature_selection import RFE, RFECV\n",
    "from sklearn.model_selection import GridSearchCV\n",
    "from sklearn.model_selection import KFold\n",
    "\n",
    "from itertools import combinations\n",
    "from MetsDataByGender import get_mets_data\n",
    "from MetsEvaluation import get_feature_importance, get_metric, get_calib_metric\n",
    "\n",
    "from numpy import array\n",
    "from matplotlib import pyplot as plt\n",
    "%matplotlib inline"
   ]
  },
  {
   "cell_type": "markdown",
   "id": "8384489c-c8b5-4bc3-a8f9-9ce14b65f4ee",
   "metadata": {},
   "source": [
    "### Dataset"
   ]
  },
  {
   "cell_type": "code",
   "execution_count": 261,
   "id": "4162d999-e4db-4df7-b942-eb05c02e5caf",
   "metadata": {},
   "outputs": [],
   "source": [
    "# fts_ctg : 'anthropometric', 'survey-based', 'synthesized'\n",
    "# fts : Define features to add as a list\n",
    "# gender : 0 male, 1 female\n",
    "add_fts = ['sbp', 'wc', 'dbp', 'BFP', 'bmi', 'CUNBAE', 'BAI','ss11', 'ss10', 'ss24', 'ss13', 'ss07','bWC', 'WC', 'BP', 'wrm', 'G1_INT', 'G2_INT', 'G3_INT2']\n",
    "tr, val, ts, info, beta, tau, ctg_idxs, ctg_dims = get_mets_data(fts_ctg='', fts = add_fts, gender=0, ONEHOT=True, TABNET=False, mrmr=False, SEED=100)"
   ]
  },
  {
   "cell_type": "markdown",
   "id": "8c709613-84eb-4622-9733-232e04f47d5b",
   "metadata": {},
   "source": [
    "### Trial 1 : Base Model \n",
    "- Default Parameter"
   ]
  },
  {
   "cell_type": "code",
   "execution_count": 265,
   "id": "d2760718-9c8f-47f1-a4d7-118e6022a2cf",
   "metadata": {},
   "outputs": [],
   "source": [
    "X_train = tr.iloc[:,1:]\n",
    "y_train = tr.iloc[:,0]\n",
    "X_valid = val.iloc[:,1:]\n",
    "y_valid = val.iloc[:,0]\n",
    "\n",
    "args = {'random_state' : 100}\n",
    "estimator = RandomForestClassifier(**args)\n",
    "\n",
    "base_model = estimator\n",
    "base_model.fit(X_train, y_train)\n",
    "prob = base_model.predict_proba(X_valid)\n",
    "fts = get_feature_importance(base_model.feature_importances_, X_train.columns, 30)"
   ]
  },
  {
   "cell_type": "markdown",
   "id": "6ae175d9-d28a-4657-a8ca-a44edaac9b15",
   "metadata": {},
   "source": [
    "### Trial 2. Feature Selection Model"
   ]
  },
  {
   "cell_type": "code",
   "execution_count": 269,
   "id": "59a4fc5b-5cb6-492d-8d1c-a9ce5fe373fd",
   "metadata": {},
   "outputs": [],
   "source": [
    "# RFE Top 30\n",
    "selector = RFE(estimator, step=1, n_features_to_select=30, verbose=0) #scoring : f1, roc_auc\n",
    "result = selector.fit(X_train[fts.feature], y_train)\n",
    "slc_fts = array(X_train[fts.feature].columns)[result.support_] \n",
    "\n",
    "# RFECV\n",
    "selector = RFECV(estimator, step=1, cv=5, scoring='roc_auc', min_features_to_select=5, verbose=0) #scoring : f1, roc_auc\n",
    "result = selector.fit(X_train[slc_fts], y_train)\n",
    "slc_fts = X_train[slc_fts].columns[result.support_]\n",
    "\n",
    "# RFE Top 10\n",
    "selector = RFE(estimator, step=1, n_features_to_select=10, verbose=0) #scoring : f1, roc_auc\n",
    "result = selector.fit(X_train[fts.feature], y_train)\n",
    "slc_fts = array(X_train[fts.feature].columns)[result.support_] \n",
    "\n",
    "top_n_model = estimator\n",
    "top_n_model.fit(X_train[slc_fts],y_train)\n",
    "prob = top_n_model.predict_proba(X_valid[slc_fts])\n",
    "get_metric(prob, y_valid, 0.5)\n",
    "\n",
    "fts = get_feature_importance(top_n_model.feature_importances_, X_train[slc_fts].columns, 30)\n",
    "plt.figure(figsize=(12,8))\n",
    "plt.barh(fts['feature'], fts['importance'])\n",
    "plt.gca().invert_yaxis()\n",
    "plt.show()"
   ]
  },
  {
   "cell_type": "markdown",
   "id": "d123943b-56ea-45b8-b295-95f7efd72464",
   "metadata": {},
   "source": [
    "### Trial 3. Find Best Combination"
   ]
  },
  {
   "cell_type": "code",
   "execution_count": 276,
   "id": "599827b0-4e68-415a-842d-22648b31680c",
   "metadata": {},
   "outputs": [
    {
     "name": "stdout",
     "output_type": "stream",
     "text": [
      "# Comb : 3\n",
      "==== 1 ====\n",
      "Best AUC : 0.8574882250255261  Features :  ('BP', 'BFP', 'bWC')\n",
      "# Comb : 4\n",
      "==== 1 ====\n",
      "Best AUC : 0.8628314284773229  Features :  ('BP', 'bWC', 'wrm', 'ss13')\n",
      "# Comb : 5\n",
      "==== 1 ====\n",
      "Best AUC : 0.8708458219426237  Features :  ('wc', 'BP', 'BFP', 'bmi', 'ss13')\n",
      "# Comb : 6\n",
      "==== 1 ====\n",
      "Best AUC : 0.8708458219426237  Features :  ('wc', 'BP', 'BFP', 'bmi', 'ss13')\n",
      "# Comb : 7\n",
      "==== 1 ====\n",
      "Best AUC : 0.8708458219426237  Features :  ('wc', 'BP', 'BFP', 'bmi', 'ss13')\n",
      "# Comb : 8\n",
      "==== 1 ====\n",
      "Best AUC : 0.8708458219426237  Features :  ('wc', 'BP', 'BFP', 'bmi', 'ss13')\n",
      "# Comb : 9\n",
      "==== 1 ====\n",
      "Best AUC : 0.8708458219426237  Features :  ('wc', 'BP', 'BFP', 'bmi', 'ss13')\n",
      "# Comb : 10\n",
      "==== 1 ====\n",
      "Best AUC : 0.8708458219426237  Features :  ('wc', 'BP', 'BFP', 'bmi', 'ss13')\n"
     ]
    }
   ],
   "source": [
    "best_res = 0\n",
    "best_ft = []\n",
    "model = estimator\n",
    "\n",
    "for j in range(3,len(slc_fts)+1) : #len(slc_fts)+1\n",
    "    print('# Comb :', j)\n",
    "    candi = list(combinations(slc_fts, j))\n",
    "    for i, ft in enumerate(candi):\n",
    "        \n",
    "        if i % 1000 == 0 :\n",
    "            print('====',i+1,'====')\n",
    "        \n",
    "        model.fit(X_train.loc[:,ft],y_train)\n",
    "        prob = model.predict_proba(X_valid.loc[:,ft])\n",
    "        metric = get_metric(prob, y_valid, 0.5)\n",
    "        crn = metric['auc']\n",
    "        if crn > best_res :\n",
    "            best_res = crn\n",
    "            best_ft = ft\n",
    "    print('Best AUC :',best_res, ' Features : ', best_ft)"
   ]
  },
  {
   "cell_type": "code",
   "execution_count": 278,
   "id": "e39f85d0-ef72-47af-8b84-798361a9b0d1",
   "metadata": {},
   "outputs": [
    {
     "data": {
      "text/plain": [
       "{'acc': 0.7542242703533026,\n",
       " 'bac': 0.7943101347122954,\n",
       " 'recall': 0.8608247422680413,\n",
       " 'ppv': 0.4394736842105263,\n",
       " 'npv': 0.9547359597652976,\n",
       " 'sepecificity': 0.7277955271565495,\n",
       " 'f1': 0.5818815331010453,\n",
       " 'auc': 0.8708458219426237}"
      ]
     },
     "execution_count": 278,
     "metadata": {},
     "output_type": "execute_result"
    }
   ],
   "source": [
    "model = estimator\n",
    "model.fit(X_train.loc[:,best_ft],y_train)\n",
    "prob = model.predict_proba(X_valid.loc[:,best_ft])\n",
    "get_metric(prob, y_valid, 0.5)\n",
    "\n",
    "fts = get_feature_importance(model.feature_importances_, X_train.loc[:,best_ft].columns, 30)\n",
    "plt.figure(figsize=(12,8))\n",
    "plt.barh(fts['feature'], fts['importance'])\n",
    "plt.gca().invert_yaxis()\n",
    "plt.show()"
   ]
  },
  {
   "cell_type": "markdown",
   "id": "1f13f4f3-3597-4f1b-9239-5c039bca27bd",
   "metadata": {},
   "source": [
    "### Model Tuning"
   ]
  },
  {
   "cell_type": "code",
   "execution_count": 281,
   "id": "133b6431-cc13-4583-bfdc-689f6aad08a3",
   "metadata": {},
   "outputs": [
    {
     "name": "stdout",
     "output_type": "stream",
     "text": [
      "Fitting 5 folds for each of 288 candidates, totalling 1440 fits\n"
     ]
    },
    {
     "data": {
      "text/plain": [
       "{'acc': 0.7516641065028162,\n",
       " 'bac': 0.7975585455024539,\n",
       " 'recall': 0.8737113402061856,\n",
       " 'ppv': 0.4374193548387097,\n",
       " 'npv': 0.9584040747028862,\n",
       " 'sepecificity': 0.721405750798722,\n",
       " 'f1': 0.5829750644883921,\n",
       " 'auc': 0.8772635947432561}"
      ]
     },
     "execution_count": 281,
     "metadata": {},
     "output_type": "execute_result"
    }
   ],
   "source": [
    "param_grid ={\n",
    "    'bootstrap': [True, False],\n",
    "    'max_depth': [4, 5, 6, 7, 8, None],\n",
    "    'min_samples_leaf': [2, 4],\n",
    "    'min_samples_split': [2, 5, 10],\n",
    "    'n_estimators': [50, 100, 500, 1000]\n",
    "}\n",
    "\n",
    "kf = KFold(random_state=100,n_splits=5,shuffle=True)\n",
    "\n",
    "# define grid_search\n",
    "grid_search = GridSearchCV(estimator=estimator, \n",
    "                           param_grid=param_grid, \n",
    "                           cv=kf, \n",
    "                           scoring='roc_auc',\n",
    "                           n_jobs=-1, \n",
    "                           verbose=1\n",
    "                          )\n",
    "\n",
    "grid_search.fit(X_train.loc[:,best_ft], y_train)\n",
    "#grid_search.best_params_\n",
    "\n",
    "best_model = RandomForestClassifier(**grid_search.best_params_,**args)\n",
    "best_model.fit(X_train.loc[:,best_ft],y_train)\n",
    "prob = best_model.predict_proba(X_valid.loc[:,best_ft])\n",
    "get_metric(prob, y_valid, 0.5)"
   ]
  }
 ],
 "metadata": {
  "kernelspec": {
   "display_name": "Python 3 (ipykernel)",
   "language": "python",
   "name": "python3"
  },
  "language_info": {
   "codemirror_mode": {
    "name": "ipython",
    "version": 3
   },
   "file_extension": ".py",
   "mimetype": "text/x-python",
   "name": "python",
   "nbconvert_exporter": "python",
   "pygments_lexer": "ipython3",
   "version": "3.8.13"
  }
 },
 "nbformat": 4,
 "nbformat_minor": 5
}
