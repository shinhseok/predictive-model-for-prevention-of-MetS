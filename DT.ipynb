{
 "cells": [
  {
   "cell_type": "code",
   "execution_count": 132,
   "id": "e5f77c0c",
   "metadata": {},
   "outputs": [],
   "source": [
    "import os\n",
    "import pandas as pd\n",
    "import numpy as np\n",
    "\n",
    "import joblib\n",
    "import sidetable\n",
    "\n",
    "from sklearn.tree import DecisionTreeClassifier\n",
    "\n",
    "from sklearn.feature_selection import RFE, RFECV\n",
    "from sklearn.model_selection import GridSearchCV\n",
    "from sklearn.model_selection import KFold\n",
    "\n",
    "from itertools import combinations\n",
    "from MetsDataByGenderRid import get_mets_data\n",
    "from MetsEvaluation import get_feature_importance, get_metric, get_calib_metric\n",
    "\n",
    "from numpy import array\n",
    "from matplotlib import pyplot as plt\n",
    "%matplotlib inline"
   ]
  },
  {
   "cell_type": "markdown",
   "id": "8384489c-c8b5-4bc3-a8f9-9ce14b65f4ee",
   "metadata": {},
   "source": [
    "### Dataset"
   ]
  },
  {
   "cell_type": "code",
   "execution_count": 252,
   "id": "4162d999-e4db-4df7-b942-eb05c02e5caf",
   "metadata": {},
   "outputs": [],
   "source": [
    "# fts_ctg : 'anthropometric', 'survey-based', 'synthesized'\n",
    "# fts : Define features to add as a list\n",
    "# gender : 0 male, 1 female\n",
    "\n",
    "add_fts = []\n",
    "tr, val, ts, info, beta, tau, ctg_idxs, ctg_dims = get_mets_data(fts_ctg='', fts = add_fts, gender=None, ONEHOT=True, TABNET=False, mrmr=False, SEED=100)"
   ]
  },
  {
   "cell_type": "markdown",
   "id": "8c709613-84eb-4622-9733-232e04f47d5b",
   "metadata": {},
   "source": [
    "### Trial 1 : Base Model \n",
    "- Default Parameter"
   ]
  },
  {
   "cell_type": "code",
   "execution_count": 234,
   "id": "543d74c3-e59d-4bab-809e-a610a0f2f0ae",
   "metadata": {},
   "outputs": [],
   "source": [
    "X_train = tr.iloc[:,1:]\n",
    "y_train = tr.iloc[:,0]\n",
    "X_valid = val.iloc[:,1:]\n",
    "y_valid = val.iloc[:,0]\n",
    "\n",
    "args = {'random_state' : 100}\n",
    "estimator = DecisionTreeClassifier(**args)\n",
    "\n",
    "base_model = estimator\n",
    "base_model.fit(X_train, y_train)\n",
    "fts = get_feature_importance(base_model.feature_importances_, X_train.columns, 30)"
   ]
  },
  {
   "cell_type": "markdown",
   "id": "6ae175d9-d28a-4657-a8ca-a44edaac9b15",
   "metadata": {},
   "source": [
    "### Trial 2. Feature Selection"
   ]
  },
  {
   "cell_type": "code",
   "execution_count": 238,
   "id": "59a4fc5b-5cb6-492d-8d1c-a9ce5fe373fd",
   "metadata": {},
   "outputs": [],
   "source": [
    "# RFE Top 30\n",
    "selector = RFE(estimator, step=1, n_features_to_select=30, verbose=0) #scoring : f1, roc_auc\n",
    "result = selector.fit(X_train[fts.feature], y_train)\n",
    "slc_fts = array(X_train[fts.feature].columns)[result.support_] \n",
    "\n",
    "# RFECV\n",
    "selector = RFECV(estimator, step=1, cv=5, scoring='roc_auc', min_features_to_select=5, verbose=0) #scoring : f1, roc_auc\n",
    "result = selector.fit(X_train[slc_fts], y_train)\n",
    "slc_fts = X_train[slc_fts].columns[result.support_]\n",
    "\n",
    "# RFE Top 10\n",
    "selector = RFE(estimator, step=1, n_features_to_select=10, verbose=0) #scoring : f1, roc_auc\n",
    "result = selector.fit(X_train[fts.feature], y_train)\n",
    "slc_fts = array(X_train[fts.feature].columns)[result.support_] "
   ]
  },
  {
   "cell_type": "code",
   "execution_count": 241,
   "id": "6bc4722b-fd4f-4108-9721-4600986130c6",
   "metadata": {},
   "outputs": [],
   "source": [
    "top_n_model = estimator\n",
    "top_n_model.fit(X_train[slc_fts],y_train)\n",
    "\n",
    "fts = get_feature_importance(top_n_model.feature_importances_, X_train[slc_fts].columns, 30)\n",
    "plt.figure(figsize=(12,8))\n",
    "plt.barh(fts['feature'], fts['importance'])\n",
    "plt.gca().invert_yaxis()\n",
    "plt.show()"
   ]
  },
  {
   "cell_type": "markdown",
   "id": "d123943b-56ea-45b8-b295-95f7efd72464",
   "metadata": {},
   "source": [
    "### Trial 3. Find Best Combination"
   ]
  },
  {
   "cell_type": "code",
   "execution_count": 243,
   "id": "599827b0-4e68-415a-842d-22648b31680c",
   "metadata": {},
   "outputs": [
    {
     "name": "stdout",
     "output_type": "stream",
     "text": [
      "# Comb : 3\n",
      "==== 1 ====\n",
      "Best AUC : 0.7961609921424587  Features :  ('BPWC_add', 'WC', 'BPWC_mul')\n",
      "# Comb : 4\n",
      "==== 1 ====\n",
      "Best AUC : 0.7961609921424587  Features :  ('BPWC_add', 'WC', 'BPWC_mul')\n",
      "# Comb : 5\n",
      "==== 1 ====\n",
      "Best AUC : 0.7961609921424587  Features :  ('BPWC_add', 'WC', 'BPWC_mul')\n",
      "# Comb : 6\n",
      "==== 1 ====\n",
      "Best AUC : 0.7961609921424587  Features :  ('BPWC_add', 'WC', 'BPWC_mul')\n",
      "# Comb : 7\n",
      "==== 1 ====\n",
      "Best AUC : 0.7961609921424587  Features :  ('BPWC_add', 'WC', 'BPWC_mul')\n",
      "# Comb : 8\n",
      "==== 1 ====\n",
      "Best AUC : 0.7961609921424587  Features :  ('BPWC_add', 'WC', 'BPWC_mul')\n",
      "# Comb : 9\n",
      "==== 1 ====\n",
      "Best AUC : 0.7961609921424587  Features :  ('BPWC_add', 'WC', 'BPWC_mul')\n",
      "# Comb : 10\n",
      "==== 1 ====\n",
      "Best AUC : 0.7961609921424587  Features :  ('BPWC_add', 'WC', 'BPWC_mul')\n"
     ]
    }
   ],
   "source": [
    "best_res = 0\n",
    "best_ft = []\n",
    "model = estimator\n",
    "\n",
    "for j in range(3,len(slc_fts)+1) : #len(slc_fts)+1\n",
    "    print('# Comb :', j)\n",
    "    candi = list(combinations(slc_fts, j))\n",
    "    for i, ft in enumerate(candi):\n",
    "        \n",
    "        if i % 1000 == 0 :\n",
    "            print('====',i+1,'====')\n",
    "        \n",
    "        model.fit(X_train.loc[:,ft],y_train)\n",
    "        prob = model.predict_proba(X_valid.loc[:,ft])\n",
    "        metric = get_metric(prob, y_valid, 0.5)\n",
    "        crn = metric['auc']\n",
    "        if crn > best_res :\n",
    "            best_res = crn\n",
    "            best_ft = ft\n",
    "    print('Best AUC :',best_res, ' Features : ', best_ft)"
   ]
  },
  {
   "cell_type": "code",
   "execution_count": 245,
   "id": "e39f85d0-ef72-47af-8b84-798361a9b0d1",
   "metadata": {},
   "outputs": [
    {
     "data": {
      "text/plain": [
       "{'acc': 0.7168458781362007,\n",
       " 'bac': 0.7582642787133564,\n",
       " 'recall': 0.8268733850129198,\n",
       " 'ppv': 0.3970223325062035,\n",
       " 'npv': 0.941586748038361,\n",
       " 'sepecificity': 0.6896551724137931,\n",
       " 'f1': 0.5364626990779547,\n",
       " 'auc': 0.7961609921424587}"
      ]
     },
     "execution_count": 245,
     "metadata": {},
     "output_type": "execute_result"
    }
   ],
   "source": [
    "model = estimator\n",
    "model.fit(X_train.loc[:,best_ft],y_train)\n",
    "\n",
    "prob = model.predict_proba(X_valid.loc[:,best_ft])\n",
    "get_metric(prob, y_valid, 0.5)\n",
    "\n",
    "fts = get_feature_importance(model.feature_importances_, X_train.loc[:,best_ft].columns, 30)\n",
    "plt.figure(figsize=(4,3))\n",
    "plt.barh(fts['feature'], fts['importance'])\n",
    "plt.gca().invert_yaxis()\n",
    "plt.show()"
   ]
  },
  {
   "cell_type": "markdown",
   "id": "1f13f4f3-3597-4f1b-9239-5c039bca27bd",
   "metadata": {},
   "source": [
    "### Model Tuning"
   ]
  },
  {
   "cell_type": "code",
   "execution_count": 248,
   "id": "133b6431-cc13-4583-bfdc-689f6aad08a3",
   "metadata": {},
   "outputs": [
    {
     "name": "stdout",
     "output_type": "stream",
     "text": [
      "Fitting 5 folds for each of 432 candidates, totalling 2160 fits\n"
     ]
    },
    {
     "data": {
      "text/plain": [
       "{'acc': 0.738863287250384,\n",
       " 'bac': 0.7865840981318126,\n",
       " 'recall': 0.8656330749354005,\n",
       " 'ppv': 0.4224464060529634,\n",
       " 'npv': 0.9551724137931035,\n",
       " 'sepecificity': 0.7075351213282248,\n",
       " 'f1': 0.5677966101694915,\n",
       " 'auc': 0.8667468591285753}"
      ]
     },
     "execution_count": 248,
     "metadata": {},
     "output_type": "execute_result"
    }
   ],
   "source": [
    "param_grid ={\n",
    "    'criterion' : ['gini', 'entropy'],\n",
    "    'max_depth' : [2, 3, 4, 5],\n",
    "    'min_samples_split' : [0.01, 0.1, 0.2],\n",
    "    'max_features' : [None, 'log2', 'sqrt'],\n",
    "    'splitter' : ['best', 'random'],\n",
    "    'min_samples_leaf' : [50, 100, 200] \n",
    "}\n",
    "\n",
    "kf = KFold(random_state=100,n_splits=5,shuffle=True)\n",
    "\n",
    "# define grid_search\n",
    "grid_search = GridSearchCV(estimator=estimator, \n",
    "                           param_grid=param_grid, \n",
    "                           cv=kf, \n",
    "                           scoring='roc_auc',\n",
    "                           n_jobs=-1, \n",
    "                           verbose=1\n",
    "                          )\n",
    "\n",
    "grid_search.fit(X_train.loc[:,best_ft], y_train)\n",
    "\n",
    "best_model = DecisionTreeClassifier(**grid_search.best_params_,**args)\n",
    "best_model.fit(X_train.loc[:,best_ft],y_train)\n",
    "\n",
    "prob = best_model.predict_proba(X_valid.loc[:,best_ft])\n",
    "get_metric(prob, y_valid, 0.5)"
   ]
  }
 ],
 "metadata": {
  "kernelspec": {
   "display_name": "Python 3 (ipykernel)",
   "language": "python",
   "name": "python3"
  },
  "language_info": {
   "codemirror_mode": {
    "name": "ipython",
    "version": 3
   },
   "file_extension": ".py",
   "mimetype": "text/x-python",
   "name": "python",
   "nbconvert_exporter": "python",
   "pygments_lexer": "ipython3",
   "version": "3.8.13"
  }
 },
 "nbformat": 4,
 "nbformat_minor": 5
}
